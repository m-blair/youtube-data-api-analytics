{
 "cells": [
  {
   "cell_type": "markdown",
   "source": [
    "# SECTION 2: PREPROCESSING\n",
    "___"
   ],
   "metadata": {
    "collapsed": false,
    "pycharm": {
     "name": "#%% md\n"
    }
   }
  },
  {
   "cell_type": "markdown",
   "source": [
    "In this notebook, we provide a csv file to obtain a cleaned version of the data in the form of a new csv file. The resulting csv can then be used in further analyses.\n",
    "\n",
    "<br>\n",
    "\n",
    "| Step | Subtask                                                                     |\n",
    "|------|-----------------------------------------------------------------------------|\n",
    "| 1    | Remove entries with null values (optional)                                  |\n",
    "| 2    | Standardize header names                                                    |\n",
    "| 3    | Convert dates to datetime                                                   |\n",
    "| 4    | Convert durations to time signatures + add new column for length in seconds |\n",
    "| 5    | Remove emojis from text fields (optional)                                   |\n",
    "| 6    | Save cleaned data as a new csv                                              |\n"
   ],
   "metadata": {
    "collapsed": false,
    "pycharm": {
     "name": "#%% md\n"
    }
   }
  },
  {
   "cell_type": "code",
   "execution_count": 87,
   "outputs": [
    {
     "data": {
      "text/plain": "<module 'preprocessing' from 'C:\\\\Users\\\\Matt\\\\DataspellProjects\\\\Youtube Data Analytics\\\\preprocessing.py'>"
     },
     "execution_count": 87,
     "metadata": {},
     "output_type": "execute_result"
    }
   ],
   "source": [
    "import math\n",
    "import pandas as pd\n",
    "from pathlib import Path\n",
    "from os import listdir, getcwd\n",
    "pd.options.mode.chained_assignment = None\n",
    "from importlib import reload\n",
    "from builtins import IndexError\n",
    "import math\n",
    "\n",
    "# project directories\n",
    "ROOT = Path(getcwd())\n",
    "DATA = ROOT.joinpath('data')\n",
    "CLEAN_DATA = ROOT.joinpath('clean_data')\n",
    "\n",
    "# local files\n",
    "import preprocessing\n",
    "reload(preprocessing)"
   ],
   "metadata": {
    "collapsed": false,
    "pycharm": {
     "name": "#%%\n"
    }
   }
  },
  {
   "cell_type": "code",
   "execution_count": 88,
   "outputs": [
    {
     "data": {
      "text/plain": "   index              name\n0      1      channels.csv\n1      2  channel_info.csv\n2      3      comments.csv\n3      4        videos.csv",
      "text/html": "<div>\n<style scoped>\n    .dataframe tbody tr th:only-of-type {\n        vertical-align: middle;\n    }\n\n    .dataframe tbody tr th {\n        vertical-align: top;\n    }\n\n    .dataframe thead th {\n        text-align: right;\n    }\n</style>\n<table border=\"1\" class=\"dataframe\">\n  <thead>\n    <tr style=\"text-align: right;\">\n      <th></th>\n      <th>index</th>\n      <th>name</th>\n    </tr>\n  </thead>\n  <tbody>\n    <tr>\n      <th>0</th>\n      <td>1</td>\n      <td>channels.csv</td>\n    </tr>\n    <tr>\n      <th>1</th>\n      <td>2</td>\n      <td>channel_info.csv</td>\n    </tr>\n    <tr>\n      <th>2</th>\n      <td>3</td>\n      <td>comments.csv</td>\n    </tr>\n    <tr>\n      <th>3</th>\n      <td>4</td>\n      <td>videos.csv</td>\n    </tr>\n  </tbody>\n</table>\n</div>"
     },
     "execution_count": 88,
     "metadata": {},
     "output_type": "execute_result"
    }
   ],
   "source": [
    "files = preprocessing.file_df\n",
    "files"
   ],
   "metadata": {
    "collapsed": false,
    "pycharm": {
     "name": "#%%\n"
    }
   }
  },
  {
   "cell_type": "code",
   "execution_count": 89,
   "outputs": [
    {
     "data": {
      "text/plain": "'videos.csv'"
     },
     "execution_count": 89,
     "metadata": {},
     "output_type": "execute_result"
    }
   ],
   "source": [
    "# set value of file_index to the index corresponding to the desired file to be cleaned (based on the df in the above cell)\n",
    "# modify the\n",
    "# hit RUN ALL when ready\n",
    "\n",
    "# parameters\n",
    "file_index: int = 4\n",
    "remove_nulls: bool = False\n",
    "remove_emojis: bool = False   # WARNING: setting this to true makes this process run much slower\n",
    "\n",
    "\n",
    "files.loc[files['index'] == file_index, 'name'].values[0]"
   ],
   "metadata": {
    "collapsed": false,
    "pycharm": {
     "name": "#%%\n"
    }
   }
  },
  {
   "cell_type": "code",
   "execution_count": 90,
   "outputs": [],
   "source": [
    "# final check that file_index has been set before initiating process\n",
    "file_selected: bool = True if file_index is not None else False\n",
    "assert file_selected, \"No file was selected\""
   ],
   "metadata": {
    "collapsed": false,
    "pycharm": {
     "name": "#%%\n"
    }
   }
  },
  {
   "cell_type": "code",
   "execution_count": 91,
   "outputs": [
    {
     "data": {
      "text/plain": "\"Cleaning file 'videos.csv'...\""
     },
     "execution_count": 91,
     "metadata": {},
     "output_type": "execute_result"
    }
   ],
   "source": [
    "# extract path to datafile\n",
    "selected_file_name = files.loc[files['index'] == file_index, 'name'].values[0]\n",
    "full_path = ROOT.joinpath('data').joinpath(selected_file_name)\n",
    "f\"Cleaning file '{full_path.name}'...\""
   ],
   "metadata": {
    "collapsed": false,
    "pycharm": {
     "name": "#%%\n"
    }
   }
  },
  {
   "cell_type": "code",
   "execution_count": 92,
   "outputs": [
    {
     "data": {
      "text/plain": "          videoId         channelName  \\\n914   a546lxxJIhE     LastWeekTonight   \n1555  go4hT1BLG6o  JerryRigEverything   \n1306  Cm_uIxcczWM        CaseyNeistat   \n2278  KeeeLsAa30M           PewDiePie   \n1093  Ee8CEV0QjCA             PragerU   \n3903  2wM3pf79QSk      Jarvis Johnson   \n3088  qquglT7Knfg          Markiplier   \n3044  _y2r2oEyqOA                ESPN   \n3426  -H1c7C-hyAk         Nerdwriter1   \n3617  2JAOTJxYqh8          Mark Rober   \n\n                                            description  \\\n914   John Oliver discusses psychedelic assisted the...   \n1555  3 things I can't live without #ad. By the way,...   \n1306                                                NaN   \n2278  #AD - Pre-Order G FUEL’s New PAC-MAN Flavor! h...   \n1093  There is a lot to learn about the Israeli-Pale...   \n3903  Take back creative control with Storyblocks' u...   \n3088  We finally see the monster! Just barely... but...   \n3044  ✔️ Subscribe to ESPN+ http://espnplus.com/yout...   \n3426  MY BOOK IS OUT NOW! \\nAMAZON: https://amzn.to/...   \n3617  One of the best things about life is you can p...   \n\n                                             videoTitle              postDate  \\\n914   Psychedelic Assisted Therapy: Last Week Tonigh...  2023-02-20T07:30:00Z   \n1555  3 THINGS I CAN'T LIVE WITHOUT! #ad #ShopWithYo...  2023-10-10T13:00:36Z   \n1306               10 simple Tricks to Not get Divorced  2023-06-16T13:51:20Z   \n2278                      $39,000,000 Minecraft House..  2023-01-17T17:45:00Z   \n1093         The Middle East Conflict Part 2 (Marathon)  2023-10-10T00:45:11Z   \n3903              Horrifying Home Design (w/ Chad Chad)  2023-01-25T18:41:41Z   \n3088                       Amnesia: The Bunker - Part 2  2023-06-26T20:22:37Z   \n3044  This looks fun 👀👏 (via @cris_motorfide/TT) #sh...  2023-10-23T19:00:27Z   \n3426            How Postwar Italy Created The Paparazzi  2022-04-30T12:42:05Z   \n3617   Bed Bugs- What You've Been Told is Totally False  2023-03-04T14:00:00Z   \n\n      duration     views  commentCount  \\\n914   PT21M28S   4681836           NaN   \n1555     PT59S    385680           NaN   \n1306  PT12M14S   1746069           NaN   \n2278  PT20M46S   3265699           NaN   \n1093  PT1H5M4S     46742           NaN   \n3903  PT24M23S   1860634           NaN   \n3088  PT54M55S   2374279           NaN   \n3044     PT14S     14753           NaN   \n3426   PT7M35S    231711           NaN   \n3617  PT23M47S  24914748           NaN   \n\n                                           thumbnail  \n914   https://i.ytimg.com/vi/a546lxxJIhE/default.jpg  \n1555  https://i.ytimg.com/vi/go4hT1BLG6o/default.jpg  \n1306  https://i.ytimg.com/vi/Cm_uIxcczWM/default.jpg  \n2278  https://i.ytimg.com/vi/KeeeLsAa30M/default.jpg  \n1093  https://i.ytimg.com/vi/Ee8CEV0QjCA/default.jpg  \n3903  https://i.ytimg.com/vi/2wM3pf79QSk/default.jpg  \n3088  https://i.ytimg.com/vi/qquglT7Knfg/default.jpg  \n3044  https://i.ytimg.com/vi/_y2r2oEyqOA/default.jpg  \n3426  https://i.ytimg.com/vi/-H1c7C-hyAk/default.jpg  \n3617  https://i.ytimg.com/vi/2JAOTJxYqh8/default.jpg  ",
      "text/html": "<div>\n<style scoped>\n    .dataframe tbody tr th:only-of-type {\n        vertical-align: middle;\n    }\n\n    .dataframe tbody tr th {\n        vertical-align: top;\n    }\n\n    .dataframe thead th {\n        text-align: right;\n    }\n</style>\n<table border=\"1\" class=\"dataframe\">\n  <thead>\n    <tr style=\"text-align: right;\">\n      <th></th>\n      <th>videoId</th>\n      <th>channelName</th>\n      <th>description</th>\n      <th>videoTitle</th>\n      <th>postDate</th>\n      <th>duration</th>\n      <th>views</th>\n      <th>commentCount</th>\n      <th>thumbnail</th>\n    </tr>\n  </thead>\n  <tbody>\n    <tr>\n      <th>914</th>\n      <td>a546lxxJIhE</td>\n      <td>LastWeekTonight</td>\n      <td>John Oliver discusses psychedelic assisted the...</td>\n      <td>Psychedelic Assisted Therapy: Last Week Tonigh...</td>\n      <td>2023-02-20T07:30:00Z</td>\n      <td>PT21M28S</td>\n      <td>4681836</td>\n      <td>NaN</td>\n      <td>https://i.ytimg.com/vi/a546lxxJIhE/default.jpg</td>\n    </tr>\n    <tr>\n      <th>1555</th>\n      <td>go4hT1BLG6o</td>\n      <td>JerryRigEverything</td>\n      <td>3 things I can't live without #ad. By the way,...</td>\n      <td>3 THINGS I CAN'T LIVE WITHOUT! #ad #ShopWithYo...</td>\n      <td>2023-10-10T13:00:36Z</td>\n      <td>PT59S</td>\n      <td>385680</td>\n      <td>NaN</td>\n      <td>https://i.ytimg.com/vi/go4hT1BLG6o/default.jpg</td>\n    </tr>\n    <tr>\n      <th>1306</th>\n      <td>Cm_uIxcczWM</td>\n      <td>CaseyNeistat</td>\n      <td>NaN</td>\n      <td>10 simple Tricks to Not get Divorced</td>\n      <td>2023-06-16T13:51:20Z</td>\n      <td>PT12M14S</td>\n      <td>1746069</td>\n      <td>NaN</td>\n      <td>https://i.ytimg.com/vi/Cm_uIxcczWM/default.jpg</td>\n    </tr>\n    <tr>\n      <th>2278</th>\n      <td>KeeeLsAa30M</td>\n      <td>PewDiePie</td>\n      <td>#AD - Pre-Order G FUEL’s New PAC-MAN Flavor! h...</td>\n      <td>$39,000,000 Minecraft House..</td>\n      <td>2023-01-17T17:45:00Z</td>\n      <td>PT20M46S</td>\n      <td>3265699</td>\n      <td>NaN</td>\n      <td>https://i.ytimg.com/vi/KeeeLsAa30M/default.jpg</td>\n    </tr>\n    <tr>\n      <th>1093</th>\n      <td>Ee8CEV0QjCA</td>\n      <td>PragerU</td>\n      <td>There is a lot to learn about the Israeli-Pale...</td>\n      <td>The Middle East Conflict Part 2 (Marathon)</td>\n      <td>2023-10-10T00:45:11Z</td>\n      <td>PT1H5M4S</td>\n      <td>46742</td>\n      <td>NaN</td>\n      <td>https://i.ytimg.com/vi/Ee8CEV0QjCA/default.jpg</td>\n    </tr>\n    <tr>\n      <th>3903</th>\n      <td>2wM3pf79QSk</td>\n      <td>Jarvis Johnson</td>\n      <td>Take back creative control with Storyblocks' u...</td>\n      <td>Horrifying Home Design (w/ Chad Chad)</td>\n      <td>2023-01-25T18:41:41Z</td>\n      <td>PT24M23S</td>\n      <td>1860634</td>\n      <td>NaN</td>\n      <td>https://i.ytimg.com/vi/2wM3pf79QSk/default.jpg</td>\n    </tr>\n    <tr>\n      <th>3088</th>\n      <td>qquglT7Knfg</td>\n      <td>Markiplier</td>\n      <td>We finally see the monster! Just barely... but...</td>\n      <td>Amnesia: The Bunker - Part 2</td>\n      <td>2023-06-26T20:22:37Z</td>\n      <td>PT54M55S</td>\n      <td>2374279</td>\n      <td>NaN</td>\n      <td>https://i.ytimg.com/vi/qquglT7Knfg/default.jpg</td>\n    </tr>\n    <tr>\n      <th>3044</th>\n      <td>_y2r2oEyqOA</td>\n      <td>ESPN</td>\n      <td>✔️ Subscribe to ESPN+ http://espnplus.com/yout...</td>\n      <td>This looks fun 👀👏 (via @cris_motorfide/TT) #sh...</td>\n      <td>2023-10-23T19:00:27Z</td>\n      <td>PT14S</td>\n      <td>14753</td>\n      <td>NaN</td>\n      <td>https://i.ytimg.com/vi/_y2r2oEyqOA/default.jpg</td>\n    </tr>\n    <tr>\n      <th>3426</th>\n      <td>-H1c7C-hyAk</td>\n      <td>Nerdwriter1</td>\n      <td>MY BOOK IS OUT NOW! \\nAMAZON: https://amzn.to/...</td>\n      <td>How Postwar Italy Created The Paparazzi</td>\n      <td>2022-04-30T12:42:05Z</td>\n      <td>PT7M35S</td>\n      <td>231711</td>\n      <td>NaN</td>\n      <td>https://i.ytimg.com/vi/-H1c7C-hyAk/default.jpg</td>\n    </tr>\n    <tr>\n      <th>3617</th>\n      <td>2JAOTJxYqh8</td>\n      <td>Mark Rober</td>\n      <td>One of the best things about life is you can p...</td>\n      <td>Bed Bugs- What You've Been Told is Totally False</td>\n      <td>2023-03-04T14:00:00Z</td>\n      <td>PT23M47S</td>\n      <td>24914748</td>\n      <td>NaN</td>\n      <td>https://i.ytimg.com/vi/2JAOTJxYqh8/default.jpg</td>\n    </tr>\n  </tbody>\n</table>\n</div>"
     },
     "execution_count": 92,
     "metadata": {},
     "output_type": "execute_result"
    }
   ],
   "source": [
    "# create DataFrame from datafile & preview\n",
    "data = pd.read_csv(full_path)\n",
    "df = pd.DataFrame(data)\n",
    "cols = list(df.columns)\n",
    "df.sample(10)"
   ],
   "metadata": {
    "collapsed": false,
    "pycharm": {
     "name": "#%%\n"
    }
   }
  },
  {
   "cell_type": "code",
   "execution_count": 93,
   "outputs": [
    {
     "data": {
      "text/plain": "          videoId    channelName  \\\n3719  RiM0moNk74o  Ariana Grande   \n1312  34k7UI-DR_8   CaseyNeistat   \n561   a4vmEpHfBAk            MLB   \n1613  s7lU2h4KsSA         Domics   \n3771  5GFunML9Iy4    Troom Troom   \n\n                                            description  \\\n3719  Check out Ariana’s full performance in Fortnit...   \n1312  JORDAN!!!! https://www.youtube.com/@JordanStud...   \n561   Don't forget to subscribe! https://www.youtube...   \n1613                                                NaN   \n3771  Watch the NEWEST videos: https://youtu.be/_mud...   \n\n                                             videoTitle              postDate  \\\n3719  Fortnite Presents: Rift Tour Featuring Ariana ...  2021-08-07T18:00:11Z   \n1312     TESTING $1400 Ai POWERED ELECTRIC SHOES in NYC  2023-02-22T21:32:11Z   \n561                    What ump cam was made for. #ALCS  2023-10-24T01:09:22Z   \n1613                                            @Domics  2021-04-01T11:51:19Z   \n3771  We Build Secret Rooms for Mermaids! Emerald Gi...  2023-10-11T13:00:04Z   \n\n      duration    views  \n3719   PT6M56S  8652089  \n1312   PT5M20S  3677747  \n561      PT13S    36833  \n1613      PT5S   563800  \n3771  PT35M26S   196503  ",
      "text/html": "<div>\n<style scoped>\n    .dataframe tbody tr th:only-of-type {\n        vertical-align: middle;\n    }\n\n    .dataframe tbody tr th {\n        vertical-align: top;\n    }\n\n    .dataframe thead th {\n        text-align: right;\n    }\n</style>\n<table border=\"1\" class=\"dataframe\">\n  <thead>\n    <tr style=\"text-align: right;\">\n      <th></th>\n      <th>videoId</th>\n      <th>channelName</th>\n      <th>description</th>\n      <th>videoTitle</th>\n      <th>postDate</th>\n      <th>duration</th>\n      <th>views</th>\n    </tr>\n  </thead>\n  <tbody>\n    <tr>\n      <th>3719</th>\n      <td>RiM0moNk74o</td>\n      <td>Ariana Grande</td>\n      <td>Check out Ariana’s full performance in Fortnit...</td>\n      <td>Fortnite Presents: Rift Tour Featuring Ariana ...</td>\n      <td>2021-08-07T18:00:11Z</td>\n      <td>PT6M56S</td>\n      <td>8652089</td>\n    </tr>\n    <tr>\n      <th>1312</th>\n      <td>34k7UI-DR_8</td>\n      <td>CaseyNeistat</td>\n      <td>JORDAN!!!! https://www.youtube.com/@JordanStud...</td>\n      <td>TESTING $1400 Ai POWERED ELECTRIC SHOES in NYC</td>\n      <td>2023-02-22T21:32:11Z</td>\n      <td>PT5M20S</td>\n      <td>3677747</td>\n    </tr>\n    <tr>\n      <th>561</th>\n      <td>a4vmEpHfBAk</td>\n      <td>MLB</td>\n      <td>Don't forget to subscribe! https://www.youtube...</td>\n      <td>What ump cam was made for. #ALCS</td>\n      <td>2023-10-24T01:09:22Z</td>\n      <td>PT13S</td>\n      <td>36833</td>\n    </tr>\n    <tr>\n      <th>1613</th>\n      <td>s7lU2h4KsSA</td>\n      <td>Domics</td>\n      <td>NaN</td>\n      <td>@Domics</td>\n      <td>2021-04-01T11:51:19Z</td>\n      <td>PT5S</td>\n      <td>563800</td>\n    </tr>\n    <tr>\n      <th>3771</th>\n      <td>5GFunML9Iy4</td>\n      <td>Troom Troom</td>\n      <td>Watch the NEWEST videos: https://youtu.be/_mud...</td>\n      <td>We Build Secret Rooms for Mermaids! Emerald Gi...</td>\n      <td>2023-10-11T13:00:04Z</td>\n      <td>PT35M26S</td>\n      <td>196503</td>\n    </tr>\n  </tbody>\n</table>\n</div>"
     },
     "execution_count": 93,
     "metadata": {},
     "output_type": "execute_result"
    }
   ],
   "source": [
    "assert all(column in cols for column in ['postDate', 'duration', 'description', 'channelName', 'videoId']), f\"DataFile is missing required columns\"\n",
    "# ignore comment count since many are null (for vids with comments disabled), and thumbnails aren't necessary for our analyses\n",
    "df = df.drop('commentCount', axis=1)\n",
    "df = df.drop('thumbnail', axis=1)\n",
    "\n",
    "df.sample(5)"
   ],
   "metadata": {
    "collapsed": false,
    "pycharm": {
     "name": "#%%\n"
    }
   }
  },
  {
   "cell_type": "code",
   "execution_count": 94,
   "outputs": [
    {
     "name": "stdout",
     "output_type": "stream",
     "text": [
      "Removed 0 rows with empty values\n"
     ]
    }
   ],
   "source": [
    "# step 1: remove nulls (optional)\n",
    "if remove_nulls:\n",
    "    pre_removal_size = df.shape[0]\n",
    "    df.dropna(inplace=True)\n",
    "    post_removal_size = df.shape[0]\n",
    "    print(f\"Removed {pre_removal_size - post_removal_size} rows with empty values ({round((post_removal_size / pre_removal_size * 100), 1)}%)\")\n",
    "else:\n",
    "    print(\"Removed 0 rows with empty values\")"
   ],
   "metadata": {
    "collapsed": false,
    "pycharm": {
     "name": "#%%\n"
    }
   }
  },
  {
   "cell_type": "code",
   "execution_count": 95,
   "outputs": [
    {
     "data": {
      "text/plain": "         video_id channel_name  \\\n0     V1hN1ekwTP8  Bon Appétit   \n1     d8q6bC-pAF8  Bon Appétit   \n2     hktIRdd90g4  Bon Appétit   \n3     Jk90CG3WBy8  Bon Appétit   \n4     9Tc33xCppQo  Bon Appétit   \n...           ...          ...   \n4045  CIc8fHhO5O0   Ed Sheeran   \n4046  m9JM-a5AH54   Ed Sheeran   \n4047  1btffD7DYVQ   Ed Sheeran   \n4048  e_irHEmAkgw   Ed Sheeran   \n4049  ebME9ilsuIE   Ed Sheeran   \n\n                                            description  \\\n0     Andrew Rea (AKA Binging With Babish) pits 32 c...   \n1     Japanese chef Yuji Haraguchi, owner of OKONOMI...   \n2     Kendra Vaculin spent days in the Bon Appétit T...   \n3     Chef Evan Funke brings Bon Appétit along to th...   \n4     “We make about 13 to 14,000 cookies every week...   \n...                                                 ...   \n4045  Autumn Variations out now: https://es.lnk.to/a...   \n4046  Subscribe to Ed's channel: http://bit.ly/Subsc...   \n4047  Subscribe to Ed's channel: http://bit.ly/Subsc...   \n4048  Autumn Variations is the first album I’m putti...   \n4049  Subscribe to Ed's channel: http://bit.ly/Subsc...   \n\n                                            video_title           upload_date  \\\n0     Babish Picks the Best Halloween Candy of All-T...  2023-10-24T16:00:02Z   \n1                                   Flaming Fish Chashu  2023-10-20T18:45:02Z   \n2     Developing These Perfect Lemon Bars Nearly Bro...  2023-10-19T16:45:02Z   \n3                              Artichoke Hips Don't Lie  2023-10-18T20:15:02Z   \n4     Making 28,000 Pastries a Week in a Small Brook...  2023-10-17T16:00:07Z   \n...                                                 ...                   ...   \n4045                                Autumn Is Coming #4  2023-09-18T22:00:06Z   \n4046  Santa Clara pop up before the stadium show, gi...  2023-09-18T14:08:11Z   \n4047  Debuting American Town unplugged in the audien...  2023-09-16T09:18:26Z   \n4048  I want you guys to make the videos for Autumn ...  2023-09-13T18:39:51Z   \n4049               Crashed a wedding, this is Magical x  2023-09-11T19:11:42Z   \n\n        length  num_views  \n0     PT17M33S       1214  \n1        PT58S      31681  \n2     PT24M29S     140798  \n3        PT27S      38809  \n4      PT20M1S     171404  \n...        ...        ...  \n4045     PT48S     130324  \n4046     PT41S     124038  \n4047      PT1M      93226  \n4048     PT25S     107355  \n4049      PT1M     236105  \n\n[4050 rows x 7 columns]",
      "text/html": "<div>\n<style scoped>\n    .dataframe tbody tr th:only-of-type {\n        vertical-align: middle;\n    }\n\n    .dataframe tbody tr th {\n        vertical-align: top;\n    }\n\n    .dataframe thead th {\n        text-align: right;\n    }\n</style>\n<table border=\"1\" class=\"dataframe\">\n  <thead>\n    <tr style=\"text-align: right;\">\n      <th></th>\n      <th>video_id</th>\n      <th>channel_name</th>\n      <th>description</th>\n      <th>video_title</th>\n      <th>upload_date</th>\n      <th>length</th>\n      <th>num_views</th>\n    </tr>\n  </thead>\n  <tbody>\n    <tr>\n      <th>0</th>\n      <td>V1hN1ekwTP8</td>\n      <td>Bon Appétit</td>\n      <td>Andrew Rea (AKA Binging With Babish) pits 32 c...</td>\n      <td>Babish Picks the Best Halloween Candy of All-T...</td>\n      <td>2023-10-24T16:00:02Z</td>\n      <td>PT17M33S</td>\n      <td>1214</td>\n    </tr>\n    <tr>\n      <th>1</th>\n      <td>d8q6bC-pAF8</td>\n      <td>Bon Appétit</td>\n      <td>Japanese chef Yuji Haraguchi, owner of OKONOMI...</td>\n      <td>Flaming Fish Chashu</td>\n      <td>2023-10-20T18:45:02Z</td>\n      <td>PT58S</td>\n      <td>31681</td>\n    </tr>\n    <tr>\n      <th>2</th>\n      <td>hktIRdd90g4</td>\n      <td>Bon Appétit</td>\n      <td>Kendra Vaculin spent days in the Bon Appétit T...</td>\n      <td>Developing These Perfect Lemon Bars Nearly Bro...</td>\n      <td>2023-10-19T16:45:02Z</td>\n      <td>PT24M29S</td>\n      <td>140798</td>\n    </tr>\n    <tr>\n      <th>3</th>\n      <td>Jk90CG3WBy8</td>\n      <td>Bon Appétit</td>\n      <td>Chef Evan Funke brings Bon Appétit along to th...</td>\n      <td>Artichoke Hips Don't Lie</td>\n      <td>2023-10-18T20:15:02Z</td>\n      <td>PT27S</td>\n      <td>38809</td>\n    </tr>\n    <tr>\n      <th>4</th>\n      <td>9Tc33xCppQo</td>\n      <td>Bon Appétit</td>\n      <td>“We make about 13 to 14,000 cookies every week...</td>\n      <td>Making 28,000 Pastries a Week in a Small Brook...</td>\n      <td>2023-10-17T16:00:07Z</td>\n      <td>PT20M1S</td>\n      <td>171404</td>\n    </tr>\n    <tr>\n      <th>...</th>\n      <td>...</td>\n      <td>...</td>\n      <td>...</td>\n      <td>...</td>\n      <td>...</td>\n      <td>...</td>\n      <td>...</td>\n    </tr>\n    <tr>\n      <th>4045</th>\n      <td>CIc8fHhO5O0</td>\n      <td>Ed Sheeran</td>\n      <td>Autumn Variations out now: https://es.lnk.to/a...</td>\n      <td>Autumn Is Coming #4</td>\n      <td>2023-09-18T22:00:06Z</td>\n      <td>PT48S</td>\n      <td>130324</td>\n    </tr>\n    <tr>\n      <th>4046</th>\n      <td>m9JM-a5AH54</td>\n      <td>Ed Sheeran</td>\n      <td>Subscribe to Ed's channel: http://bit.ly/Subsc...</td>\n      <td>Santa Clara pop up before the stadium show, gi...</td>\n      <td>2023-09-18T14:08:11Z</td>\n      <td>PT41S</td>\n      <td>124038</td>\n    </tr>\n    <tr>\n      <th>4047</th>\n      <td>1btffD7DYVQ</td>\n      <td>Ed Sheeran</td>\n      <td>Subscribe to Ed's channel: http://bit.ly/Subsc...</td>\n      <td>Debuting American Town unplugged in the audien...</td>\n      <td>2023-09-16T09:18:26Z</td>\n      <td>PT1M</td>\n      <td>93226</td>\n    </tr>\n    <tr>\n      <th>4048</th>\n      <td>e_irHEmAkgw</td>\n      <td>Ed Sheeran</td>\n      <td>Autumn Variations is the first album I’m putti...</td>\n      <td>I want you guys to make the videos for Autumn ...</td>\n      <td>2023-09-13T18:39:51Z</td>\n      <td>PT25S</td>\n      <td>107355</td>\n    </tr>\n    <tr>\n      <th>4049</th>\n      <td>ebME9ilsuIE</td>\n      <td>Ed Sheeran</td>\n      <td>Subscribe to Ed's channel: http://bit.ly/Subsc...</td>\n      <td>Crashed a wedding, this is Magical x</td>\n      <td>2023-09-11T19:11:42Z</td>\n      <td>PT1M</td>\n      <td>236105</td>\n    </tr>\n  </tbody>\n</table>\n<p>4050 rows × 7 columns</p>\n</div>"
     },
     "execution_count": 95,
     "metadata": {},
     "output_type": "execute_result"
    }
   ],
   "source": [
    "# step 2: rename columns\n",
    "df = df.rename(columns={'videoId': 'video_id', 'channelName': 'channel_name', 'videoTitle': 'video_title', 'postDate': 'upload_date', 'duration': 'length', 'views': 'num_views'})\n",
    "df"
   ],
   "metadata": {
    "collapsed": false,
    "pycharm": {
     "name": "#%%\n"
    }
   }
  },
  {
   "cell_type": "code",
   "execution_count": 96,
   "outputs": [],
   "source": [
    "# step 3: convert dates\n",
    "df['upload_date'] = df['upload_date'].apply(lambda x: preprocessing.convert_date(x))"
   ],
   "metadata": {
    "collapsed": false,
    "pycharm": {
     "name": "#%%\n"
    }
   }
  },
  {
   "cell_type": "code",
   "execution_count": 97,
   "outputs": [],
   "source": [
    "# step 4: convert durations + add seconds column\n",
    "df['length'] = df['length'].apply(lambda x: preprocessing.convert_duration(x))\n",
    "df['length_secs'] = df['length'].apply(lambda x: preprocessing.duration_to_secs(x))"
   ],
   "metadata": {
    "collapsed": false,
    "pycharm": {
     "name": "#%%\n"
    }
   }
  },
  {
   "cell_type": "code",
   "execution_count": 98,
   "outputs": [],
   "source": [
    "# step 5: remove emojis (optional)\n",
    "if remove_emojis:\n",
    "    df['video_title'] = df['video_title'].apply(lambda x: preprocessing.remove_emojis(x))\n",
    "    df['description'] = df['description'].apply(lambda x: preprocessing.remove_emojis(x))\n",
    "    print(f\"All emojsi removed\")"
   ],
   "metadata": {
    "collapsed": false,
    "pycharm": {
     "name": "#%%\n"
    }
   }
  },
  {
   "cell_type": "code",
   "execution_count": 99,
   "outputs": [
    {
     "data": {
      "text/plain": "\"Saved file to 'videos_cleaned.csv'\""
     },
     "execution_count": 99,
     "metadata": {},
     "output_type": "execute_result"
    }
   ],
   "source": [
    "# step 6: save file as new csv\n",
    "new_file_name = full_path.stem + '_cleaned.csv'\n",
    "df.to_csv(CLEAN_DATA.joinpath(new_file_name), index=False)\n",
    "f\"Saved file to '{new_file_name}'\""
   ],
   "metadata": {
    "collapsed": false,
    "pycharm": {
     "name": "#%%\n"
    }
   }
  }
 ],
 "metadata": {
  "kernelspec": {
   "display_name": "Python 3",
   "language": "python",
   "name": "python3"
  },
  "language_info": {
   "codemirror_mode": {
    "name": "ipython",
    "version": 2
   },
   "file_extension": ".py",
   "mimetype": "text/x-python",
   "name": "python",
   "nbconvert_exporter": "python",
   "pygments_lexer": "ipython2",
   "version": "2.7.6"
  }
 },
 "nbformat": 4,
 "nbformat_minor": 0
}