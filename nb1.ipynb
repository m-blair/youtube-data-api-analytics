{
 "cells": [
  {
   "cell_type": "markdown",
   "source": [
    "# SECTION 1: DATA CURATION\n",
    "___\n",
    "\n",
    "Our first task is to find data for our project. We will do this through the use of Google's YouTube Data API v3.\n",
    "\n",
    "Unfortunately, we can't just use the channel names that the user can see on the site when calling the API, since not all channels have a channelName, depending on when they were created. Not to mention that there are copius amounts of copycat accounts out there with similar names to their real counterparts. The way around this is to obtain a set of channelId's, which all channels have, and serve as unique identifiers; channelId's are also required for interfacing with most of the APIs features and methods. To find a given channel's ID, we have to manually visit a channel's home page, and extract it from the home page's source code.\n",
    "\n",
    "Since this is a manual process, we will just append these IDs to lists in the file `channel_ids.py` and import that into the following code."
   ],
   "metadata": {
    "collapsed": false,
    "pycharm": {
     "name": "#%% md\n"
    }
   }
  },
  {
   "cell_type": "markdown",
   "source": [
    "\n",
    "## Outline\n",
    "\n",
    "| Part | Task                                                       |\n",
    "|------|------------------------------------------------------------|\n",
    "| I    | Gather sample of channels                                  |\n",
    "| II   | Gather sample of videos from each channel                  |\n",
    "| III  | Gather sample of comments from each video                  |\n",
    "| IV   | remove nulls + gather more ids if necessary + repeat I-III |\n"
   ],
   "metadata": {
    "collapsed": false,
    "pycharm": {
     "name": "#%% md\n"
    }
   }
  },
  {
   "cell_type": "code",
   "execution_count": 8,
   "outputs": [],
   "source": [
    "import os\n",
    "import googleapiclient.discovery\n",
    "from googleapiclient.discovery import HttpError\n",
    "import pandas as pd\n",
    "from pathlib import Path\n",
    "from os import listdir, getcwd\n",
    "from importlib import reload\n",
    "pd.options.mode.chained_assignment = None"
   ],
   "metadata": {
    "collapsed": false,
    "pycharm": {
     "name": "#%%\n"
    }
   }
  },
  {
   "cell_type": "code",
   "execution_count": 27,
   "outputs": [],
   "source": [
    "# authentication step\n",
    "import api_keys\n",
    "developer_key = api_keys.developer_key\n",
    "\n",
    "os.environ[\"OAUTHLIB_INSECURE_TRANSPORT\"] = \"1\"\n",
    "\n",
    "api_service_name = \"youtube\"\n",
    "api_version = \"v3\"\n",
    "\n",
    "youtube = googleapiclient.discovery.build(\n",
    "    api_service_name, api_version, developerKey=developer_key)"
   ],
   "metadata": {
    "collapsed": false,
    "pycharm": {
     "name": "#%%\n"
    }
   }
  },
  {
   "cell_type": "markdown",
   "source": [
    "### **PART I**: SAMPLING CHANNELS"
   ],
   "metadata": {
    "collapsed": false,
    "pycharm": {
     "name": "#%% md\n"
    }
   }
  },
  {
   "cell_type": "code",
   "execution_count": 29,
   "outputs": [
    {
     "data": {
      "text/plain": "<module 'channel_ids' from 'C:\\\\Users\\\\Matt\\\\DataspellProjects\\\\Youtube Data Analytics\\\\channel_ids.py'>"
     },
     "execution_count": 29,
     "metadata": {},
     "output_type": "execute_result"
    }
   ],
   "source": [
    "# channel ids obtained from their channel's page source code\n",
    "import channel_ids\n",
    "reload(channel_ids)"
   ],
   "metadata": {
    "collapsed": false,
    "pycharm": {
     "name": "#%%\n"
    }
   }
  },
  {
   "cell_type": "code",
   "execution_count": 34,
   "outputs": [],
   "source": [
    "def get_channel_details(channel_ids) -> pd.DataFrame | None:\n",
    "    \"\"\"retrieves various details about the provided channel(s), like channel name, id, sub count, video count, view count, etc.\"\"\"\n",
    "    # limit is 50 channels_ids at a time\n",
    "    assert len(channel_ids) <= 50\n",
    "    all_data = []\n",
    "    request = youtube.channels().list(part=\"snippet,contentDetails,statistics\", id=\",\".join(channel_ids))\n",
    "    response = request.execute()\n",
    "\n",
    "    for item in response['items']:\n",
    "        data = {\"channelId\": item['id'],\n",
    "                \"channelName\": item['snippet']['title'],\n",
    "                \"viewCount\": item['statistics']['viewCount'],\n",
    "                \"subscriberCount\": item['statistics']['subscriberCount'],\n",
    "                \"videoCount\": item['statistics']['videoCount'],\n",
    "                \"uploads\": item['contentDetails']['relatedPlaylists']['uploads']\n",
    "                }\n",
    "        all_data.append(data)\n",
    "    return pd.DataFrame(all_data)"
   ],
   "metadata": {
    "collapsed": false,
    "pycharm": {
     "name": "#%%\n"
    }
   }
  },
  {
   "cell_type": "code",
   "execution_count": 71,
   "outputs": [
    {
     "data": {
      "text/plain": "(50, 31)"
     },
     "execution_count": 71,
     "metadata": {},
     "output_type": "execute_result"
    }
   ],
   "source": [
    "from channel_ids import new_channel_ids\n",
    "\n",
    "save_to_new_file: bool = True\n",
    "new_file_name = 'videos.csv'\n",
    "new_file_name_2 = 'channels.csv'\n",
    "\n",
    "new_ids_1, new_ids_2 = new_channel_ids[:50], new_channel_ids[50:]\n",
    "len(new_ids_1), len(new_ids_2)"
   ],
   "metadata": {
    "collapsed": false,
    "pycharm": {
     "name": "#%%\n"
    }
   }
  },
  {
   "cell_type": "code",
   "execution_count": 37,
   "outputs": [],
   "source": [
    "# call with the sublists then merge into one dataframe\n",
    "df = get_channel_details(new_ids_1)\n",
    "df2 = get_channel_details(new_ids_2)"
   ],
   "metadata": {
    "collapsed": false,
    "pycharm": {
     "name": "#%%\n"
    }
   }
  },
  {
   "cell_type": "code",
   "execution_count": 39,
   "outputs": [
    {
     "data": {
      "text/plain": "                   channelId      channelName    viewCount subscriberCount  \\\n0   UCbpMy0Fg74eXXkvxJrtEn3w      Bon Appétit   1806695724         6380000   \n1   UCupvZG-5ko_eiXAupbDfxWw              CNN  14843457695        15700000   \n2   UC7_gcs09iThXybpVgjHZ_7g   PBS Space Time    428817752         2960000   \n3   UCIEv3lZ_tNXHzL3ox-_uUGQ    Gordon Ramsay   3941028890        20200000   \n4   UCeY0bbntWzzVIaj2z3QigXg         NBC News   6348059328         9070000   \n..                       ...              ...          ...             ...   \n76  UClFSU9_bUb4Rc6OYfTt5SPw  Philip DeFranco   1928011589         6480000   \n77  UCwWhs_6x42TyRM4Wstoq8HA   The Daily Show   5405189122        10500000   \n78  UCoLUji8TYrgDy74_iiazvYA   Jarvis Johnson    239388514         2040000   \n79  UCRijo3ddMTht_IHyNSNXpNQ     Dude Perfect  16674697235        59800000   \n80  UC0C-w0YjGpqDXGB8IHb662A       Ed Sheeran  30847079439        53800000   \n\n   videoCount                   uploads  \n0        1543  UUbpMy0Fg74eXXkvxJrtEn3w  \n1      161812  UUupvZG-5ko_eiXAupbDfxWw  \n2         367  UU7_gcs09iThXybpVgjHZ_7g  \n3        1585  UUIEv3lZ_tNXHzL3ox-_uUGQ  \n4       57204  UUeY0bbntWzzVIaj2z3QigXg  \n..        ...                       ...  \n76       1748  UUlFSU9_bUb4Rc6OYfTt5SPw  \n77       5405  UUwWhs_6x42TyRM4Wstoq8HA  \n78        146  UUoLUji8TYrgDy74_iiazvYA  \n79        400  UURijo3ddMTht_IHyNSNXpNQ  \n80        448  UU0C-w0YjGpqDXGB8IHb662A  \n\n[81 rows x 6 columns]",
      "text/html": "<div>\n<style scoped>\n    .dataframe tbody tr th:only-of-type {\n        vertical-align: middle;\n    }\n\n    .dataframe tbody tr th {\n        vertical-align: top;\n    }\n\n    .dataframe thead th {\n        text-align: right;\n    }\n</style>\n<table border=\"1\" class=\"dataframe\">\n  <thead>\n    <tr style=\"text-align: right;\">\n      <th></th>\n      <th>channelId</th>\n      <th>channelName</th>\n      <th>viewCount</th>\n      <th>subscriberCount</th>\n      <th>videoCount</th>\n      <th>uploads</th>\n    </tr>\n  </thead>\n  <tbody>\n    <tr>\n      <th>0</th>\n      <td>UCbpMy0Fg74eXXkvxJrtEn3w</td>\n      <td>Bon Appétit</td>\n      <td>1806695724</td>\n      <td>6380000</td>\n      <td>1543</td>\n      <td>UUbpMy0Fg74eXXkvxJrtEn3w</td>\n    </tr>\n    <tr>\n      <th>1</th>\n      <td>UCupvZG-5ko_eiXAupbDfxWw</td>\n      <td>CNN</td>\n      <td>14843457695</td>\n      <td>15700000</td>\n      <td>161812</td>\n      <td>UUupvZG-5ko_eiXAupbDfxWw</td>\n    </tr>\n    <tr>\n      <th>2</th>\n      <td>UC7_gcs09iThXybpVgjHZ_7g</td>\n      <td>PBS Space Time</td>\n      <td>428817752</td>\n      <td>2960000</td>\n      <td>367</td>\n      <td>UU7_gcs09iThXybpVgjHZ_7g</td>\n    </tr>\n    <tr>\n      <th>3</th>\n      <td>UCIEv3lZ_tNXHzL3ox-_uUGQ</td>\n      <td>Gordon Ramsay</td>\n      <td>3941028890</td>\n      <td>20200000</td>\n      <td>1585</td>\n      <td>UUIEv3lZ_tNXHzL3ox-_uUGQ</td>\n    </tr>\n    <tr>\n      <th>4</th>\n      <td>UCeY0bbntWzzVIaj2z3QigXg</td>\n      <td>NBC News</td>\n      <td>6348059328</td>\n      <td>9070000</td>\n      <td>57204</td>\n      <td>UUeY0bbntWzzVIaj2z3QigXg</td>\n    </tr>\n    <tr>\n      <th>...</th>\n      <td>...</td>\n      <td>...</td>\n      <td>...</td>\n      <td>...</td>\n      <td>...</td>\n      <td>...</td>\n    </tr>\n    <tr>\n      <th>76</th>\n      <td>UClFSU9_bUb4Rc6OYfTt5SPw</td>\n      <td>Philip DeFranco</td>\n      <td>1928011589</td>\n      <td>6480000</td>\n      <td>1748</td>\n      <td>UUlFSU9_bUb4Rc6OYfTt5SPw</td>\n    </tr>\n    <tr>\n      <th>77</th>\n      <td>UCwWhs_6x42TyRM4Wstoq8HA</td>\n      <td>The Daily Show</td>\n      <td>5405189122</td>\n      <td>10500000</td>\n      <td>5405</td>\n      <td>UUwWhs_6x42TyRM4Wstoq8HA</td>\n    </tr>\n    <tr>\n      <th>78</th>\n      <td>UCoLUji8TYrgDy74_iiazvYA</td>\n      <td>Jarvis Johnson</td>\n      <td>239388514</td>\n      <td>2040000</td>\n      <td>146</td>\n      <td>UUoLUji8TYrgDy74_iiazvYA</td>\n    </tr>\n    <tr>\n      <th>79</th>\n      <td>UCRijo3ddMTht_IHyNSNXpNQ</td>\n      <td>Dude Perfect</td>\n      <td>16674697235</td>\n      <td>59800000</td>\n      <td>400</td>\n      <td>UURijo3ddMTht_IHyNSNXpNQ</td>\n    </tr>\n    <tr>\n      <th>80</th>\n      <td>UC0C-w0YjGpqDXGB8IHb662A</td>\n      <td>Ed Sheeran</td>\n      <td>30847079439</td>\n      <td>53800000</td>\n      <td>448</td>\n      <td>UU0C-w0YjGpqDXGB8IHb662A</td>\n    </tr>\n  </tbody>\n</table>\n<p>81 rows × 6 columns</p>\n</div>"
     },
     "execution_count": 39,
     "metadata": {},
     "output_type": "execute_result"
    }
   ],
   "source": [
    "df = pd.concat([df, df2], ignore_index=True)\n",
    "df.sample(5)"
   ],
   "metadata": {
    "collapsed": false,
    "pycharm": {
     "name": "#%%\n"
    }
   }
  },
  {
   "cell_type": "code",
   "execution_count": 42,
   "outputs": [],
   "source": [
    "# check all the correct channels were obtained by their sub count (we can assume they're correct if they have at least 1 mil subs)\n",
    "assert all(int(i) > 1000000 for i in df['subscriberCount'].to_list())"
   ],
   "metadata": {
    "collapsed": false,
    "pycharm": {
     "name": "#%%\n"
    }
   }
  },
  {
   "cell_type": "markdown",
   "source": [
    "By collecting the 'uploads' playlistIds for our set of creators, we can easily access their most recent posted videos, and gather their respective IDs."
   ],
   "metadata": {
    "collapsed": false,
    "pycharm": {
     "name": "#%% md\n"
    }
   }
  },
  {
   "cell_type": "markdown",
   "source": [
    "### **PART II**: SAMPLING VIDEOS"
   ],
   "metadata": {
    "collapsed": false,
    "pycharm": {
     "name": "#%% md\n"
    }
   }
  },
  {
   "cell_type": "code",
   "execution_count": 43,
   "outputs": [],
   "source": [
    "uploads_ids = df['uploads'].tolist()"
   ],
   "metadata": {
    "collapsed": false,
    "pycharm": {
     "name": "#%%\n"
    }
   }
  },
  {
   "cell_type": "code",
   "execution_count": 44,
   "outputs": [],
   "source": [
    "def last_n_video_ids(playlist_id, n: int = 50):\n",
    "    \"\"\"retrieve the video ids for the creator's last n uploads, provided the channel's 'uploads' playlist ID\"\"\"\n",
    "    ids = []\n",
    "\n",
    "    request = youtube.playlistItems().list(\n",
    "        part=\"snippet,contentDetails\",\n",
    "        playlistId=playlist_id,\n",
    "        maxResults = n\n",
    "    )\n",
    "\n",
    "    response = request.execute()\n",
    "\n",
    "    for item in response['items']:\n",
    "        ids.append(item['contentDetails']['videoId'])\n",
    "\n",
    "    return ids"
   ],
   "metadata": {
    "collapsed": false,
    "pycharm": {
     "name": "#%%\n"
    }
   }
  },
  {
   "cell_type": "code",
   "execution_count": 45,
   "outputs": [],
   "source": [
    "data = []\n",
    "for playlist_id in uploads_ids:\n",
    "    video_ids = last_n_video_ids(playlist_id, 50)\n",
    "    data.append(video_ids)"
   ],
   "metadata": {
    "collapsed": false,
    "pycharm": {
     "name": "#%%\n"
    }
   }
  },
  {
   "cell_type": "markdown",
   "source": [
    "Now, since commas aren't a valid video ID character, we will transform each sublist of video IDs into a comma-separated string. From that, we will have a simple list of strings we can set as a new column in our dataframe."
   ],
   "metadata": {
    "collapsed": false,
    "pycharm": {
     "name": "#%% md\n"
    }
   }
  },
  {
   "cell_type": "code",
   "execution_count": 46,
   "outputs": [],
   "source": [
    "videos = [\",\".join(sub_list) for sub_list in data]\n",
    "df['videoIDs'] = videos"
   ],
   "metadata": {
    "collapsed": false,
    "pycharm": {
     "name": "#%%\n"
    }
   }
  },
  {
   "cell_type": "code",
   "execution_count": 47,
   "outputs": [],
   "source": [
    "channel_ids = df['channelId'].tolist()"
   ],
   "metadata": {
    "collapsed": false,
    "pycharm": {
     "name": "#%%\n"
    }
   }
  },
  {
   "cell_type": "code",
   "execution_count": 49,
   "outputs": [],
   "source": [
    "def get_video_details(video_ids):\n",
    "    \"\"\"retrieves information on each video provided, as a list of dicts\"\"\"\n",
    "    all_data = []\n",
    "    if isinstance(video_ids, list):\n",
    "        request = youtube.videos().list(\n",
    "            part=\"snippet,contentDetails,statistics\",\n",
    "            id=\",\".join(video_ids)\n",
    "        )\n",
    "    elif isinstance(video_ids, str):\n",
    "        request = youtube.videos().list(\n",
    "            part=\"snippet,contentDetails,statistics\",\n",
    "            id=video_ids\n",
    "        )\n",
    "    response = request.execute()\n",
    "\n",
    "    for item in response['items']:\n",
    "        video_info = {\n",
    "            'videoId': item['id'],\n",
    "            'channelName': item['snippet']['channelTitle'],\n",
    "            'description': item['snippet']['description'],\n",
    "            'videoTitle': item['snippet']['title'],\n",
    "            'postDate': item['snippet']['publishedAt'],\n",
    "            'duration': item['contentDetails']['duration'],\n",
    "            'views': item['statistics']['viewCount'],\n",
    "            'commentCount': None,\n",
    "            'thumbnail': item['snippet']['thumbnails']['default']['url']}\n",
    "        all_data.append(video_info)\n",
    "    return all_data"
   ],
   "metadata": {
    "collapsed": false,
    "pycharm": {
     "name": "#%%\n"
    }
   }
  },
  {
   "cell_type": "code",
   "execution_count": 50,
   "outputs": [],
   "source": [
    "def get_video_ids(channel_id):\n",
    "    \"\"\"returns a list of video IDs for the associated channel ID, in the form of a list of strings\"\"\"\n",
    "    video_ids = df[df['channelId'] == channel_id]['videoIDs'].values[0]\n",
    "    return video_ids.split(',')"
   ],
   "metadata": {
    "collapsed": false,
    "pycharm": {
     "name": "#%%\n"
    }
   }
  },
  {
   "cell_type": "markdown",
   "source": [
    "### **PART III**: SAMPLING COMMENTS"
   ],
   "metadata": {
    "collapsed": false,
    "pycharm": {
     "name": "#%% md\n"
    }
   }
  },
  {
   "cell_type": "code",
   "execution_count": 59,
   "outputs": [],
   "source": [
    "video_details_list = []\n",
    "\n",
    "for channel_id in channel_ids:\n",
    "    video_ids = get_video_ids(channel_id)\n",
    "    video_details = get_video_details(video_ids)\n",
    "    video_details_list.extend(video_details)\n",
    "\n",
    "video_df = pd.DataFrame(video_details_list)"
   ],
   "metadata": {
    "collapsed": false,
    "pycharm": {
     "name": "#%%\n"
    }
   }
  },
  {
   "cell_type": "markdown",
   "source": [
    "The result of the code above will allow us to cross-reference information between our channel df and the newly created ```video_df```, since we can connect video Ids to channel Ids. As we will see soon, this will become more important after we store comments from these videos in a new dataframe, called ```comments_df```."
   ],
   "metadata": {
    "collapsed": false,
    "pycharm": {
     "name": "#%% md\n"
    }
   }
  },
  {
   "cell_type": "code",
   "execution_count": 27,
   "outputs": [],
   "source": [
    "def get_n_comments(video_id, n=50):\n",
    "    comments = []\n",
    "    try:\n",
    "        results = youtube.commentThreads().list(\n",
    "            part = 'snippet',\n",
    "            videoId = video_id,\n",
    "            textFormat = 'plainText',\n",
    "            maxResults=n\n",
    "        ).execute()\n",
    "    except HttpError:\n",
    "        # comments are disabled on video\n",
    "        return [None]\n",
    "    else:\n",
    "        for item in results['items']:\n",
    "            comment = item['snippet']['topLevelComment']['snippet']['textDisplay']\n",
    "            comments.append(comment)\n",
    "        return comments"
   ],
   "metadata": {
    "collapsed": false,
    "pycharm": {
     "name": "#%%\n"
    }
   }
  },
  {
   "cell_type": "code",
   "execution_count": 28,
   "outputs": [],
   "source": [
    "# create nested dict of comment data:\n",
    "# dict of channel_ids -> dict of video_ids -> list of comments\n",
    "\n",
    "# all_comment_data = {}\n",
    "#\n",
    "# for channel_id in channel_ids:\n",
    "#     comment_data = {}\n",
    "#     channel_video_ids = get_video_ids(channel_id)\n",
    "#     for video_id in channel_video_ids:\n",
    "#         video_comments = get_n_comments(video_id)\n",
    "#         comment_data[video_id] = video_comments\n",
    "#     all_comment_data[channel_id] = comment_data"
   ],
   "metadata": {
    "collapsed": false,
    "pycharm": {
     "name": "#%%\n"
    }
   }
  },
  {
   "cell_type": "code",
   "execution_count": 29,
   "outputs": [
    {
     "data": {
      "text/plain": "True"
     },
     "execution_count": 29,
     "metadata": {},
     "output_type": "execute_result"
    }
   ],
   "source": [
    "# len(all_comment_data.keys()) == len(channel_ids)"
   ],
   "metadata": {
    "collapsed": false,
    "pycharm": {
     "name": "#%%\n"
    }
   }
  },
  {
   "cell_type": "code",
   "execution_count": 30,
   "outputs": [],
   "source": [
    "# unpack all video_id: comment list pairs into a single df across all creators\n",
    "\n",
    "# channel_ids = []\n",
    "# video_ids = []\n",
    "# comments = []\n",
    "#\n",
    "# for channel_id, video_id_dict in all_comment_data.items():\n",
    "#     for video_id, comments_list in video_id_dict.items():\n",
    "#         for comment in comments_list:\n",
    "#             channel_ids.append(channel_id)\n",
    "#             video_ids.append(video_id)\n",
    "#             comments.append(comment)\n",
    "#\n",
    "# comments_df = pd.DataFrame({'channelId': channel_ids, 'videoId': video_ids, 'comment': comments})"
   ],
   "metadata": {
    "collapsed": false,
    "pycharm": {
     "name": "#%%\n"
    }
   }
  },
  {
   "cell_type": "code",
   "execution_count": 60,
   "outputs": [
    {
     "data": {
      "text/plain": "          videoId  channelName  \\\n0     V1hN1ekwTP8  Bon Appétit   \n1     d8q6bC-pAF8  Bon Appétit   \n2     hktIRdd90g4  Bon Appétit   \n3     Jk90CG3WBy8  Bon Appétit   \n4     9Tc33xCppQo  Bon Appétit   \n...           ...          ...   \n4045  CIc8fHhO5O0   Ed Sheeran   \n4046  m9JM-a5AH54   Ed Sheeran   \n4047  1btffD7DYVQ   Ed Sheeran   \n4048  e_irHEmAkgw   Ed Sheeran   \n4049  ebME9ilsuIE   Ed Sheeran   \n\n                                            description  \\\n0     Andrew Rea (AKA Binging With Babish) pits 32 c...   \n1     Japanese chef Yuji Haraguchi, owner of OKONOMI...   \n2     Kendra Vaculin spent days in the Bon Appétit T...   \n3     Chef Evan Funke brings Bon Appétit along to th...   \n4     “We make about 13 to 14,000 cookies every week...   \n...                                                 ...   \n4045  Autumn Variations out now: https://es.lnk.to/a...   \n4046  Subscribe to Ed's channel: http://bit.ly/Subsc...   \n4047  Subscribe to Ed's channel: http://bit.ly/Subsc...   \n4048  Autumn Variations is the first album I’m putti...   \n4049  Subscribe to Ed's channel: http://bit.ly/Subsc...   \n\n                                             videoTitle              postDate  \\\n0     Babish Picks the Best Halloween Candy of All-T...  2023-10-24T16:00:02Z   \n1                                   Flaming Fish Chashu  2023-10-20T18:45:02Z   \n2     Developing These Perfect Lemon Bars Nearly Bro...  2023-10-19T16:45:02Z   \n3                              Artichoke Hips Don't Lie  2023-10-18T20:15:02Z   \n4     Making 28,000 Pastries a Week in a Small Brook...  2023-10-17T16:00:07Z   \n...                                                 ...                   ...   \n4045                                Autumn Is Coming #4  2023-09-18T22:00:06Z   \n4046  Santa Clara pop up before the stadium show, gi...  2023-09-18T14:08:11Z   \n4047  Debuting American Town unplugged in the audien...  2023-09-16T09:18:26Z   \n4048  I want you guys to make the videos for Autumn ...  2023-09-13T18:39:51Z   \n4049               Crashed a wedding, this is Magical x  2023-09-11T19:11:42Z   \n\n      duration   views commentCount  \\\n0     PT17M33S    1214         None   \n1        PT58S   31681         None   \n2     PT24M29S  140798         None   \n3        PT27S   38809         None   \n4      PT20M1S  171404         None   \n...        ...     ...          ...   \n4045     PT48S  130324         None   \n4046     PT41S  124038         None   \n4047      PT1M   93226         None   \n4048     PT25S  107355         None   \n4049      PT1M  236105         None   \n\n                                           thumbnail  \n0     https://i.ytimg.com/vi/V1hN1ekwTP8/default.jpg  \n1     https://i.ytimg.com/vi/d8q6bC-pAF8/default.jpg  \n2     https://i.ytimg.com/vi/hktIRdd90g4/default.jpg  \n3     https://i.ytimg.com/vi/Jk90CG3WBy8/default.jpg  \n4     https://i.ytimg.com/vi/9Tc33xCppQo/default.jpg  \n...                                              ...  \n4045  https://i.ytimg.com/vi/CIc8fHhO5O0/default.jpg  \n4046  https://i.ytimg.com/vi/m9JM-a5AH54/default.jpg  \n4047  https://i.ytimg.com/vi/1btffD7DYVQ/default.jpg  \n4048  https://i.ytimg.com/vi/e_irHEmAkgw/default.jpg  \n4049  https://i.ytimg.com/vi/ebME9ilsuIE/default.jpg  \n\n[4050 rows x 9 columns]",
      "text/html": "<div>\n<style scoped>\n    .dataframe tbody tr th:only-of-type {\n        vertical-align: middle;\n    }\n\n    .dataframe tbody tr th {\n        vertical-align: top;\n    }\n\n    .dataframe thead th {\n        text-align: right;\n    }\n</style>\n<table border=\"1\" class=\"dataframe\">\n  <thead>\n    <tr style=\"text-align: right;\">\n      <th></th>\n      <th>videoId</th>\n      <th>channelName</th>\n      <th>description</th>\n      <th>videoTitle</th>\n      <th>postDate</th>\n      <th>duration</th>\n      <th>views</th>\n      <th>commentCount</th>\n      <th>thumbnail</th>\n    </tr>\n  </thead>\n  <tbody>\n    <tr>\n      <th>0</th>\n      <td>V1hN1ekwTP8</td>\n      <td>Bon Appétit</td>\n      <td>Andrew Rea (AKA Binging With Babish) pits 32 c...</td>\n      <td>Babish Picks the Best Halloween Candy of All-T...</td>\n      <td>2023-10-24T16:00:02Z</td>\n      <td>PT17M33S</td>\n      <td>1214</td>\n      <td>None</td>\n      <td>https://i.ytimg.com/vi/V1hN1ekwTP8/default.jpg</td>\n    </tr>\n    <tr>\n      <th>1</th>\n      <td>d8q6bC-pAF8</td>\n      <td>Bon Appétit</td>\n      <td>Japanese chef Yuji Haraguchi, owner of OKONOMI...</td>\n      <td>Flaming Fish Chashu</td>\n      <td>2023-10-20T18:45:02Z</td>\n      <td>PT58S</td>\n      <td>31681</td>\n      <td>None</td>\n      <td>https://i.ytimg.com/vi/d8q6bC-pAF8/default.jpg</td>\n    </tr>\n    <tr>\n      <th>2</th>\n      <td>hktIRdd90g4</td>\n      <td>Bon Appétit</td>\n      <td>Kendra Vaculin spent days in the Bon Appétit T...</td>\n      <td>Developing These Perfect Lemon Bars Nearly Bro...</td>\n      <td>2023-10-19T16:45:02Z</td>\n      <td>PT24M29S</td>\n      <td>140798</td>\n      <td>None</td>\n      <td>https://i.ytimg.com/vi/hktIRdd90g4/default.jpg</td>\n    </tr>\n    <tr>\n      <th>3</th>\n      <td>Jk90CG3WBy8</td>\n      <td>Bon Appétit</td>\n      <td>Chef Evan Funke brings Bon Appétit along to th...</td>\n      <td>Artichoke Hips Don't Lie</td>\n      <td>2023-10-18T20:15:02Z</td>\n      <td>PT27S</td>\n      <td>38809</td>\n      <td>None</td>\n      <td>https://i.ytimg.com/vi/Jk90CG3WBy8/default.jpg</td>\n    </tr>\n    <tr>\n      <th>4</th>\n      <td>9Tc33xCppQo</td>\n      <td>Bon Appétit</td>\n      <td>“We make about 13 to 14,000 cookies every week...</td>\n      <td>Making 28,000 Pastries a Week in a Small Brook...</td>\n      <td>2023-10-17T16:00:07Z</td>\n      <td>PT20M1S</td>\n      <td>171404</td>\n      <td>None</td>\n      <td>https://i.ytimg.com/vi/9Tc33xCppQo/default.jpg</td>\n    </tr>\n    <tr>\n      <th>...</th>\n      <td>...</td>\n      <td>...</td>\n      <td>...</td>\n      <td>...</td>\n      <td>...</td>\n      <td>...</td>\n      <td>...</td>\n      <td>...</td>\n      <td>...</td>\n    </tr>\n    <tr>\n      <th>4045</th>\n      <td>CIc8fHhO5O0</td>\n      <td>Ed Sheeran</td>\n      <td>Autumn Variations out now: https://es.lnk.to/a...</td>\n      <td>Autumn Is Coming #4</td>\n      <td>2023-09-18T22:00:06Z</td>\n      <td>PT48S</td>\n      <td>130324</td>\n      <td>None</td>\n      <td>https://i.ytimg.com/vi/CIc8fHhO5O0/default.jpg</td>\n    </tr>\n    <tr>\n      <th>4046</th>\n      <td>m9JM-a5AH54</td>\n      <td>Ed Sheeran</td>\n      <td>Subscribe to Ed's channel: http://bit.ly/Subsc...</td>\n      <td>Santa Clara pop up before the stadium show, gi...</td>\n      <td>2023-09-18T14:08:11Z</td>\n      <td>PT41S</td>\n      <td>124038</td>\n      <td>None</td>\n      <td>https://i.ytimg.com/vi/m9JM-a5AH54/default.jpg</td>\n    </tr>\n    <tr>\n      <th>4047</th>\n      <td>1btffD7DYVQ</td>\n      <td>Ed Sheeran</td>\n      <td>Subscribe to Ed's channel: http://bit.ly/Subsc...</td>\n      <td>Debuting American Town unplugged in the audien...</td>\n      <td>2023-09-16T09:18:26Z</td>\n      <td>PT1M</td>\n      <td>93226</td>\n      <td>None</td>\n      <td>https://i.ytimg.com/vi/1btffD7DYVQ/default.jpg</td>\n    </tr>\n    <tr>\n      <th>4048</th>\n      <td>e_irHEmAkgw</td>\n      <td>Ed Sheeran</td>\n      <td>Autumn Variations is the first album I’m putti...</td>\n      <td>I want you guys to make the videos for Autumn ...</td>\n      <td>2023-09-13T18:39:51Z</td>\n      <td>PT25S</td>\n      <td>107355</td>\n      <td>None</td>\n      <td>https://i.ytimg.com/vi/e_irHEmAkgw/default.jpg</td>\n    </tr>\n    <tr>\n      <th>4049</th>\n      <td>ebME9ilsuIE</td>\n      <td>Ed Sheeran</td>\n      <td>Subscribe to Ed's channel: http://bit.ly/Subsc...</td>\n      <td>Crashed a wedding, this is Magical x</td>\n      <td>2023-09-11T19:11:42Z</td>\n      <td>PT1M</td>\n      <td>236105</td>\n      <td>None</td>\n      <td>https://i.ytimg.com/vi/ebME9ilsuIE/default.jpg</td>\n    </tr>\n  </tbody>\n</table>\n<p>4050 rows × 9 columns</p>\n</div>"
     },
     "execution_count": 60,
     "metadata": {},
     "output_type": "execute_result"
    }
   ],
   "source": [
    "video_df"
   ],
   "metadata": {
    "collapsed": false,
    "pycharm": {
     "name": "#%%\n"
    }
   }
  },
  {
   "cell_type": "code",
   "execution_count": 63,
   "outputs": [
    {
     "name": "stdout",
     "output_type": "stream",
     "text": [
      "Saved data to file 'videos.csv'\n"
     ]
    }
   ],
   "source": [
    "# save all 3 dfs as csv files in the 'data' folder\n",
    "root = Path(getcwd())\n",
    "data_folder = root.joinpath('data')\n",
    "\n",
    "if save_to_new_file:\n",
    "    df.to_csv(data_folder.joinpath(new_file_name_2), index=False)\n",
    "    video_df.to_csv(data_folder.joinpath(new_file_name), index=False)\n",
    "    print(f\"Saved data to files '{new_file_name_2}' '{new_file_name}'\")\n",
    "else:\n",
    "    file_name = 'videos.csv'\n",
    "    file_name_2 = 'channels.csv'\n",
    "    video_df.to_csv(data_folder.joinpath(file_name), mode='a', index=False, header=False)\n",
    "    df.to_csv(data_folder.joinpath(file_name_2), mode='a', index=False, header=False)\n",
    "    print(f\"Appended to files '{file_name_2}' and '{file_name}'\")"
   ],
   "metadata": {
    "collapsed": false,
    "pycharm": {
     "name": "#%%\n"
    }
   }
  },
  {
   "cell_type": "code",
   "execution_count": 68,
   "outputs": [
    {
     "data": {
      "text/plain": "          videoId                       channelName  \\\n389   KrE6S47uqYM                      Rhett & Link   \n1796  aU53t7EH_CQ                              VICE   \n2355  A1TaT6ny1G0             Good Mythical Morning   \n3322  thOifuHs6eY                          CGP Grey   \n3737  B6_iQvaIjXw                  ArianaGrandeVevo   \n2090  O7hhNl4sR-4                          Be Smart   \n2065  fJ9qKO8VHFw                          Be Smart   \n1386  IdSibCpD76I                  emma chamberlain   \n3399  Cd3v_pRgOp8                      Taylor Swift   \n3599  3J7bosj7sXQ                      Drawfee Show   \n1687  I9hJ_Rux9y0        Kurzgesagt – In a Nutshell   \n2519  75Mnq8zvQ6s                          BBC News   \n2409  _TH3dOWQki0  The Majority Report w/ Sam Seder   \n1685  fXb02MQ78yQ        Kurzgesagt – In a Nutshell   \n163   BLx8ZewfzFI                     Gordon Ramsay   \n296   -1U6jv6SzWY                     Billie Eilish   \n1249  F_wS3rVt3Hk                         Gibi ASMR   \n3808  K-T_rer24CE                   Philip DeFranco   \n2784  rBU9E-ZOZAI                       Numberphile   \n2426  8YEHs4CPD6I  The Majority Report w/ Sam Seder   \n\n                                            description  \\\n389                                                 NaN   \n1796  After years as one of the most successful cred...   \n2355  Today, we're comparing groceries from around t...   \n3322  ‣ Behind the Scenes: https://www.youtube.com/w...   \n3737  The official “34+35” music video by Ariana Gra...   \n2090  Thank you to Brilliant for supporting PBS. To ...   \n2065  Another YouTube #shorts from your favorite sci...   \n1386  Thanks to Google for sponsoring a portion of t...   \n3399  Listen to “Anti-Hero (Jayda G remix)” by Taylo...   \n3599  Nathan, Jacob, Karina, and Julia only have 30 ...   \n1687  We want to be part of your friendship journey,...   \n2519  The United Nations has called for an “immediat...   \n2409  A listener asks why Sam calls Hamas a terroris...   \n1685  Go ‘beyond the nutshell’ at https://brilliant....   \n163   What a trickster, that Gordon!\\n\\nSeason 5, Ep...   \n296   Listen to “Happier Than Ever”, out now: https:...   \n1249  hello hello!! I am currently in Europe! I am s...   \n3808  Start your free trial today: http://www.Square...   \n2784  Neil Sloane discusses The Inventory Sequence.....   \n2426  Emma is joined by Noah Kulwin, co-host of the ...   \n\n                                             videoTitle              postDate  \\\n389                            Rhett & Link Live Stream  2017-04-24T23:11:56Z   \n1796             How a Jewelry Heist Went Wrong #shorts  2023-08-14T15:00:01Z   \n2355    Which Country Has The Most Expensive Groceries?  2023-10-19T10:00:10Z   \n3322                         Hexagons are the Bestagons  2020-11-03T16:30:11Z   \n3737             Ariana Grande - 34+35 (official video)  2020-11-17T17:00:03Z   \n2090                    The Evolutionary Purpose of Fun  2023-01-31T16:20:11Z   \n2065                The world’s oldest dog is HOW OLD?!  2023-08-07T22:44:44Z   \n1386                               HOW TO ENJOY BOREDOM  2021-05-30T20:30:18Z   \n3399           Taylor Swift - Anti-Hero (Jayda G Remix)  2022-11-11T03:00:06Z   \n3599  We Only Had 30 Seconds to Draw These Popular C...  2023-04-20T17:01:17Z   \n1687         Why You Are Lonely and How to Make Friends  2022-09-06T13:59:36Z   \n2519  Gaza bombing: “End this god-awful nightmare” s...  2023-10-21T22:24:10Z   \n2409    Listener Asks If Hamas Is A Terror Organization  2023-10-22T18:30:33Z   \n1685           What Happens if a Supervolcano Blows Up?  2022-10-18T13:59:41Z   \n163   They Don't Know They're Cooking For Gordon Ram...  2023-10-03T16:00:12Z   \n296   Billie Eilish - Happier Than Ever, The World T...  2022-03-03T17:00:09Z   \n1249  Fast, chaotic tingle delivery directly to your...  2023-07-20T17:05:57Z   \n3808  Sssniperwolf Doxxing Scandal Exposes A Growing...  2023-10-16T22:04:12Z   \n2784    A Number Sequence with Everything - Numberphile  2022-11-10T10:59:05Z   \n2426  Media Double Standard Over Israel's War On Gaz...  2023-10-20T15:00:07Z   \n\n        duration      views  commentCount  \\\n389          P0D          0           NaN   \n1796       PT51S      16896           NaN   \n2355    PT20M51S     798662           NaN   \n3322     PT9M27S   12251281           NaN   \n3737     PT3M41S  300402271           NaN   \n2090     PT9M51S     297117           NaN   \n2065       PT49S     562356           NaN   \n1386    PT22M51S    6213026           NaN   \n3399     PT3M36S     698969           NaN   \n3599    PT25M15S     270175           NaN   \n1687     PT12M9S    5821117           NaN   \n2519     PT3M20S     476974           NaN   \n2409     PT4M36S      17776           NaN   \n1685    PT11M59S    8013794           NaN   \n163   PT1H34M30S      94894           NaN   \n296     PT12M32S    2296375           NaN   \n1249    PT17M28S     640178           NaN   \n3808    PT18M58S     780078           NaN   \n2784    PT10M55S     195883           NaN   \n2426    PT12M17S      21969           NaN   \n\n                                              thumbnail  \n389   https://i.ytimg.com/vi/KrE6S47uqYM/default_liv...  \n1796     https://i.ytimg.com/vi/aU53t7EH_CQ/default.jpg  \n2355     https://i.ytimg.com/vi/A1TaT6ny1G0/default.jpg  \n3322     https://i.ytimg.com/vi/thOifuHs6eY/default.jpg  \n3737     https://i.ytimg.com/vi/B6_iQvaIjXw/default.jpg  \n2090     https://i.ytimg.com/vi/O7hhNl4sR-4/default.jpg  \n2065     https://i.ytimg.com/vi/fJ9qKO8VHFw/default.jpg  \n1386     https://i.ytimg.com/vi/IdSibCpD76I/default.jpg  \n3399     https://i.ytimg.com/vi/Cd3v_pRgOp8/default.jpg  \n3599     https://i.ytimg.com/vi/3J7bosj7sXQ/default.jpg  \n1687     https://i.ytimg.com/vi/I9hJ_Rux9y0/default.jpg  \n2519     https://i.ytimg.com/vi/75Mnq8zvQ6s/default.jpg  \n2409     https://i.ytimg.com/vi/_TH3dOWQki0/default.jpg  \n1685     https://i.ytimg.com/vi/fXb02MQ78yQ/default.jpg  \n163      https://i.ytimg.com/vi/BLx8ZewfzFI/default.jpg  \n296      https://i.ytimg.com/vi/-1U6jv6SzWY/default.jpg  \n1249     https://i.ytimg.com/vi/F_wS3rVt3Hk/default.jpg  \n3808     https://i.ytimg.com/vi/K-T_rer24CE/default.jpg  \n2784     https://i.ytimg.com/vi/rBU9E-ZOZAI/default.jpg  \n2426     https://i.ytimg.com/vi/8YEHs4CPD6I/default.jpg  ",
      "text/html": "<div>\n<style scoped>\n    .dataframe tbody tr th:only-of-type {\n        vertical-align: middle;\n    }\n\n    .dataframe tbody tr th {\n        vertical-align: top;\n    }\n\n    .dataframe thead th {\n        text-align: right;\n    }\n</style>\n<table border=\"1\" class=\"dataframe\">\n  <thead>\n    <tr style=\"text-align: right;\">\n      <th></th>\n      <th>videoId</th>\n      <th>channelName</th>\n      <th>description</th>\n      <th>videoTitle</th>\n      <th>postDate</th>\n      <th>duration</th>\n      <th>views</th>\n      <th>commentCount</th>\n      <th>thumbnail</th>\n    </tr>\n  </thead>\n  <tbody>\n    <tr>\n      <th>389</th>\n      <td>KrE6S47uqYM</td>\n      <td>Rhett &amp; Link</td>\n      <td>NaN</td>\n      <td>Rhett &amp; Link Live Stream</td>\n      <td>2017-04-24T23:11:56Z</td>\n      <td>P0D</td>\n      <td>0</td>\n      <td>NaN</td>\n      <td>https://i.ytimg.com/vi/KrE6S47uqYM/default_liv...</td>\n    </tr>\n    <tr>\n      <th>1796</th>\n      <td>aU53t7EH_CQ</td>\n      <td>VICE</td>\n      <td>After years as one of the most successful cred...</td>\n      <td>How a Jewelry Heist Went Wrong #shorts</td>\n      <td>2023-08-14T15:00:01Z</td>\n      <td>PT51S</td>\n      <td>16896</td>\n      <td>NaN</td>\n      <td>https://i.ytimg.com/vi/aU53t7EH_CQ/default.jpg</td>\n    </tr>\n    <tr>\n      <th>2355</th>\n      <td>A1TaT6ny1G0</td>\n      <td>Good Mythical Morning</td>\n      <td>Today, we're comparing groceries from around t...</td>\n      <td>Which Country Has The Most Expensive Groceries?</td>\n      <td>2023-10-19T10:00:10Z</td>\n      <td>PT20M51S</td>\n      <td>798662</td>\n      <td>NaN</td>\n      <td>https://i.ytimg.com/vi/A1TaT6ny1G0/default.jpg</td>\n    </tr>\n    <tr>\n      <th>3322</th>\n      <td>thOifuHs6eY</td>\n      <td>CGP Grey</td>\n      <td>‣ Behind the Scenes: https://www.youtube.com/w...</td>\n      <td>Hexagons are the Bestagons</td>\n      <td>2020-11-03T16:30:11Z</td>\n      <td>PT9M27S</td>\n      <td>12251281</td>\n      <td>NaN</td>\n      <td>https://i.ytimg.com/vi/thOifuHs6eY/default.jpg</td>\n    </tr>\n    <tr>\n      <th>3737</th>\n      <td>B6_iQvaIjXw</td>\n      <td>ArianaGrandeVevo</td>\n      <td>The official “34+35” music video by Ariana Gra...</td>\n      <td>Ariana Grande - 34+35 (official video)</td>\n      <td>2020-11-17T17:00:03Z</td>\n      <td>PT3M41S</td>\n      <td>300402271</td>\n      <td>NaN</td>\n      <td>https://i.ytimg.com/vi/B6_iQvaIjXw/default.jpg</td>\n    </tr>\n    <tr>\n      <th>2090</th>\n      <td>O7hhNl4sR-4</td>\n      <td>Be Smart</td>\n      <td>Thank you to Brilliant for supporting PBS. To ...</td>\n      <td>The Evolutionary Purpose of Fun</td>\n      <td>2023-01-31T16:20:11Z</td>\n      <td>PT9M51S</td>\n      <td>297117</td>\n      <td>NaN</td>\n      <td>https://i.ytimg.com/vi/O7hhNl4sR-4/default.jpg</td>\n    </tr>\n    <tr>\n      <th>2065</th>\n      <td>fJ9qKO8VHFw</td>\n      <td>Be Smart</td>\n      <td>Another YouTube #shorts from your favorite sci...</td>\n      <td>The world’s oldest dog is HOW OLD?!</td>\n      <td>2023-08-07T22:44:44Z</td>\n      <td>PT49S</td>\n      <td>562356</td>\n      <td>NaN</td>\n      <td>https://i.ytimg.com/vi/fJ9qKO8VHFw/default.jpg</td>\n    </tr>\n    <tr>\n      <th>1386</th>\n      <td>IdSibCpD76I</td>\n      <td>emma chamberlain</td>\n      <td>Thanks to Google for sponsoring a portion of t...</td>\n      <td>HOW TO ENJOY BOREDOM</td>\n      <td>2021-05-30T20:30:18Z</td>\n      <td>PT22M51S</td>\n      <td>6213026</td>\n      <td>NaN</td>\n      <td>https://i.ytimg.com/vi/IdSibCpD76I/default.jpg</td>\n    </tr>\n    <tr>\n      <th>3399</th>\n      <td>Cd3v_pRgOp8</td>\n      <td>Taylor Swift</td>\n      <td>Listen to “Anti-Hero (Jayda G remix)” by Taylo...</td>\n      <td>Taylor Swift - Anti-Hero (Jayda G Remix)</td>\n      <td>2022-11-11T03:00:06Z</td>\n      <td>PT3M36S</td>\n      <td>698969</td>\n      <td>NaN</td>\n      <td>https://i.ytimg.com/vi/Cd3v_pRgOp8/default.jpg</td>\n    </tr>\n    <tr>\n      <th>3599</th>\n      <td>3J7bosj7sXQ</td>\n      <td>Drawfee Show</td>\n      <td>Nathan, Jacob, Karina, and Julia only have 30 ...</td>\n      <td>We Only Had 30 Seconds to Draw These Popular C...</td>\n      <td>2023-04-20T17:01:17Z</td>\n      <td>PT25M15S</td>\n      <td>270175</td>\n      <td>NaN</td>\n      <td>https://i.ytimg.com/vi/3J7bosj7sXQ/default.jpg</td>\n    </tr>\n    <tr>\n      <th>1687</th>\n      <td>I9hJ_Rux9y0</td>\n      <td>Kurzgesagt – In a Nutshell</td>\n      <td>We want to be part of your friendship journey,...</td>\n      <td>Why You Are Lonely and How to Make Friends</td>\n      <td>2022-09-06T13:59:36Z</td>\n      <td>PT12M9S</td>\n      <td>5821117</td>\n      <td>NaN</td>\n      <td>https://i.ytimg.com/vi/I9hJ_Rux9y0/default.jpg</td>\n    </tr>\n    <tr>\n      <th>2519</th>\n      <td>75Mnq8zvQ6s</td>\n      <td>BBC News</td>\n      <td>The United Nations has called for an “immediat...</td>\n      <td>Gaza bombing: “End this god-awful nightmare” s...</td>\n      <td>2023-10-21T22:24:10Z</td>\n      <td>PT3M20S</td>\n      <td>476974</td>\n      <td>NaN</td>\n      <td>https://i.ytimg.com/vi/75Mnq8zvQ6s/default.jpg</td>\n    </tr>\n    <tr>\n      <th>2409</th>\n      <td>_TH3dOWQki0</td>\n      <td>The Majority Report w/ Sam Seder</td>\n      <td>A listener asks why Sam calls Hamas a terroris...</td>\n      <td>Listener Asks If Hamas Is A Terror Organization</td>\n      <td>2023-10-22T18:30:33Z</td>\n      <td>PT4M36S</td>\n      <td>17776</td>\n      <td>NaN</td>\n      <td>https://i.ytimg.com/vi/_TH3dOWQki0/default.jpg</td>\n    </tr>\n    <tr>\n      <th>1685</th>\n      <td>fXb02MQ78yQ</td>\n      <td>Kurzgesagt – In a Nutshell</td>\n      <td>Go ‘beyond the nutshell’ at https://brilliant....</td>\n      <td>What Happens if a Supervolcano Blows Up?</td>\n      <td>2022-10-18T13:59:41Z</td>\n      <td>PT11M59S</td>\n      <td>8013794</td>\n      <td>NaN</td>\n      <td>https://i.ytimg.com/vi/fXb02MQ78yQ/default.jpg</td>\n    </tr>\n    <tr>\n      <th>163</th>\n      <td>BLx8ZewfzFI</td>\n      <td>Gordon Ramsay</td>\n      <td>What a trickster, that Gordon!\\n\\nSeason 5, Ep...</td>\n      <td>They Don't Know They're Cooking For Gordon Ram...</td>\n      <td>2023-10-03T16:00:12Z</td>\n      <td>PT1H34M30S</td>\n      <td>94894</td>\n      <td>NaN</td>\n      <td>https://i.ytimg.com/vi/BLx8ZewfzFI/default.jpg</td>\n    </tr>\n    <tr>\n      <th>296</th>\n      <td>-1U6jv6SzWY</td>\n      <td>Billie Eilish</td>\n      <td>Listen to “Happier Than Ever”, out now: https:...</td>\n      <td>Billie Eilish - Happier Than Ever, The World T...</td>\n      <td>2022-03-03T17:00:09Z</td>\n      <td>PT12M32S</td>\n      <td>2296375</td>\n      <td>NaN</td>\n      <td>https://i.ytimg.com/vi/-1U6jv6SzWY/default.jpg</td>\n    </tr>\n    <tr>\n      <th>1249</th>\n      <td>F_wS3rVt3Hk</td>\n      <td>Gibi ASMR</td>\n      <td>hello hello!! I am currently in Europe! I am s...</td>\n      <td>Fast, chaotic tingle delivery directly to your...</td>\n      <td>2023-07-20T17:05:57Z</td>\n      <td>PT17M28S</td>\n      <td>640178</td>\n      <td>NaN</td>\n      <td>https://i.ytimg.com/vi/F_wS3rVt3Hk/default.jpg</td>\n    </tr>\n    <tr>\n      <th>3808</th>\n      <td>K-T_rer24CE</td>\n      <td>Philip DeFranco</td>\n      <td>Start your free trial today: http://www.Square...</td>\n      <td>Sssniperwolf Doxxing Scandal Exposes A Growing...</td>\n      <td>2023-10-16T22:04:12Z</td>\n      <td>PT18M58S</td>\n      <td>780078</td>\n      <td>NaN</td>\n      <td>https://i.ytimg.com/vi/K-T_rer24CE/default.jpg</td>\n    </tr>\n    <tr>\n      <th>2784</th>\n      <td>rBU9E-ZOZAI</td>\n      <td>Numberphile</td>\n      <td>Neil Sloane discusses The Inventory Sequence.....</td>\n      <td>A Number Sequence with Everything - Numberphile</td>\n      <td>2022-11-10T10:59:05Z</td>\n      <td>PT10M55S</td>\n      <td>195883</td>\n      <td>NaN</td>\n      <td>https://i.ytimg.com/vi/rBU9E-ZOZAI/default.jpg</td>\n    </tr>\n    <tr>\n      <th>2426</th>\n      <td>8YEHs4CPD6I</td>\n      <td>The Majority Report w/ Sam Seder</td>\n      <td>Emma is joined by Noah Kulwin, co-host of the ...</td>\n      <td>Media Double Standard Over Israel's War On Gaz...</td>\n      <td>2023-10-20T15:00:07Z</td>\n      <td>PT12M17S</td>\n      <td>21969</td>\n      <td>NaN</td>\n      <td>https://i.ytimg.com/vi/8YEHs4CPD6I/default.jpg</td>\n    </tr>\n  </tbody>\n</table>\n</div>"
     },
     "execution_count": 68,
     "metadata": {},
     "output_type": "execute_result"
    }
   ],
   "source": [
    "# preview results\n",
    "data = pd.read_csv(data_folder.joinpath('videos.csv'))\n",
    "new_df = pd.DataFrame(data)\n",
    "new_df.sample(20)"
   ],
   "metadata": {
    "collapsed": false,
    "pycharm": {
     "name": "#%%\n"
    }
   }
  },
  {
   "cell_type": "code",
   "execution_count": 69,
   "outputs": [
    {
     "data": {
      "text/plain": "                   channelId      channelName    viewCount subscriberCount  \\\n0   UCbpMy0Fg74eXXkvxJrtEn3w      Bon Appétit   1806695724         6380000   \n1   UCupvZG-5ko_eiXAupbDfxWw              CNN  14843457695        15700000   \n2   UC7_gcs09iThXybpVgjHZ_7g   PBS Space Time    428817752         2960000   \n3   UCIEv3lZ_tNXHzL3ox-_uUGQ    Gordon Ramsay   3941028890        20200000   \n4   UCeY0bbntWzzVIaj2z3QigXg         NBC News   6348059328         9070000   \n..                       ...              ...          ...             ...   \n76  UClFSU9_bUb4Rc6OYfTt5SPw  Philip DeFranco   1928011589         6480000   \n77  UCwWhs_6x42TyRM4Wstoq8HA   The Daily Show   5405189122        10500000   \n78  UCoLUji8TYrgDy74_iiazvYA   Jarvis Johnson    239388514         2040000   \n79  UCRijo3ddMTht_IHyNSNXpNQ     Dude Perfect  16674697235        59800000   \n80  UC0C-w0YjGpqDXGB8IHb662A       Ed Sheeran  30847079439        53800000   \n\n   videoCount                   uploads  \\\n0        1543  UUbpMy0Fg74eXXkvxJrtEn3w   \n1      161812  UUupvZG-5ko_eiXAupbDfxWw   \n2         367  UU7_gcs09iThXybpVgjHZ_7g   \n3        1585  UUIEv3lZ_tNXHzL3ox-_uUGQ   \n4       57204  UUeY0bbntWzzVIaj2z3QigXg   \n..        ...                       ...   \n76       1748  UUlFSU9_bUb4Rc6OYfTt5SPw   \n77       5405  UUwWhs_6x42TyRM4Wstoq8HA   \n78        146  UUoLUji8TYrgDy74_iiazvYA   \n79        400  UURijo3ddMTht_IHyNSNXpNQ   \n80        448  UU0C-w0YjGpqDXGB8IHb662A   \n\n                                             videoIDs  \n0   V1hN1ekwTP8,d8q6bC-pAF8,hktIRdd90g4,Jk90CG3WBy...  \n1   dCgI8OoeZF8,LmVBYsZ4Cp8,gX_PhI5t3kE,5QqFweh3CC...  \n2   5e83QRGoRCo,ZLrMwDD8u_Q,BUHW1zlstVk,npynpWkUSY...  \n3   UNW_RWcqZeQ,-4o1IUdTojc,dvepSlTZh1c,XyqzcfTWyg...  \n4   GE4FXNDAxG8,TsjVbJH6KXI,NkIeeHYzNpo,ubderM7G4h...  \n..                                                ...  \n76  sO8HD0YxNZk,j110aDhWHyY,KFbxSSz7wPY,t5koy7769z...  \n77  vbCSiHc-szY,LDPFOVvSFDU,nMKL-LyTVn8,6FpfzjTOEs...  \n78  KW64FiB0ITg,Gw_r47vQ2Sw,SUGfvEAlvk0,2wM3pf79QS...  \n79  ZVPpl_sV97U,cA-DTIpVdH0,UGz1AbmJIuU,9o__c8wNd3...  \n80  ZqiF_UtH6fw,YAMI-bwcQ2g,uDaUlP2x2Jk,218WUXMDMO...  \n\n[81 rows x 7 columns]",
      "text/html": "<div>\n<style scoped>\n    .dataframe tbody tr th:only-of-type {\n        vertical-align: middle;\n    }\n\n    .dataframe tbody tr th {\n        vertical-align: top;\n    }\n\n    .dataframe thead th {\n        text-align: right;\n    }\n</style>\n<table border=\"1\" class=\"dataframe\">\n  <thead>\n    <tr style=\"text-align: right;\">\n      <th></th>\n      <th>channelId</th>\n      <th>channelName</th>\n      <th>viewCount</th>\n      <th>subscriberCount</th>\n      <th>videoCount</th>\n      <th>uploads</th>\n      <th>videoIDs</th>\n    </tr>\n  </thead>\n  <tbody>\n    <tr>\n      <th>0</th>\n      <td>UCbpMy0Fg74eXXkvxJrtEn3w</td>\n      <td>Bon Appétit</td>\n      <td>1806695724</td>\n      <td>6380000</td>\n      <td>1543</td>\n      <td>UUbpMy0Fg74eXXkvxJrtEn3w</td>\n      <td>V1hN1ekwTP8,d8q6bC-pAF8,hktIRdd90g4,Jk90CG3WBy...</td>\n    </tr>\n    <tr>\n      <th>1</th>\n      <td>UCupvZG-5ko_eiXAupbDfxWw</td>\n      <td>CNN</td>\n      <td>14843457695</td>\n      <td>15700000</td>\n      <td>161812</td>\n      <td>UUupvZG-5ko_eiXAupbDfxWw</td>\n      <td>dCgI8OoeZF8,LmVBYsZ4Cp8,gX_PhI5t3kE,5QqFweh3CC...</td>\n    </tr>\n    <tr>\n      <th>2</th>\n      <td>UC7_gcs09iThXybpVgjHZ_7g</td>\n      <td>PBS Space Time</td>\n      <td>428817752</td>\n      <td>2960000</td>\n      <td>367</td>\n      <td>UU7_gcs09iThXybpVgjHZ_7g</td>\n      <td>5e83QRGoRCo,ZLrMwDD8u_Q,BUHW1zlstVk,npynpWkUSY...</td>\n    </tr>\n    <tr>\n      <th>3</th>\n      <td>UCIEv3lZ_tNXHzL3ox-_uUGQ</td>\n      <td>Gordon Ramsay</td>\n      <td>3941028890</td>\n      <td>20200000</td>\n      <td>1585</td>\n      <td>UUIEv3lZ_tNXHzL3ox-_uUGQ</td>\n      <td>UNW_RWcqZeQ,-4o1IUdTojc,dvepSlTZh1c,XyqzcfTWyg...</td>\n    </tr>\n    <tr>\n      <th>4</th>\n      <td>UCeY0bbntWzzVIaj2z3QigXg</td>\n      <td>NBC News</td>\n      <td>6348059328</td>\n      <td>9070000</td>\n      <td>57204</td>\n      <td>UUeY0bbntWzzVIaj2z3QigXg</td>\n      <td>GE4FXNDAxG8,TsjVbJH6KXI,NkIeeHYzNpo,ubderM7G4h...</td>\n    </tr>\n    <tr>\n      <th>...</th>\n      <td>...</td>\n      <td>...</td>\n      <td>...</td>\n      <td>...</td>\n      <td>...</td>\n      <td>...</td>\n      <td>...</td>\n    </tr>\n    <tr>\n      <th>76</th>\n      <td>UClFSU9_bUb4Rc6OYfTt5SPw</td>\n      <td>Philip DeFranco</td>\n      <td>1928011589</td>\n      <td>6480000</td>\n      <td>1748</td>\n      <td>UUlFSU9_bUb4Rc6OYfTt5SPw</td>\n      <td>sO8HD0YxNZk,j110aDhWHyY,KFbxSSz7wPY,t5koy7769z...</td>\n    </tr>\n    <tr>\n      <th>77</th>\n      <td>UCwWhs_6x42TyRM4Wstoq8HA</td>\n      <td>The Daily Show</td>\n      <td>5405189122</td>\n      <td>10500000</td>\n      <td>5405</td>\n      <td>UUwWhs_6x42TyRM4Wstoq8HA</td>\n      <td>vbCSiHc-szY,LDPFOVvSFDU,nMKL-LyTVn8,6FpfzjTOEs...</td>\n    </tr>\n    <tr>\n      <th>78</th>\n      <td>UCoLUji8TYrgDy74_iiazvYA</td>\n      <td>Jarvis Johnson</td>\n      <td>239388514</td>\n      <td>2040000</td>\n      <td>146</td>\n      <td>UUoLUji8TYrgDy74_iiazvYA</td>\n      <td>KW64FiB0ITg,Gw_r47vQ2Sw,SUGfvEAlvk0,2wM3pf79QS...</td>\n    </tr>\n    <tr>\n      <th>79</th>\n      <td>UCRijo3ddMTht_IHyNSNXpNQ</td>\n      <td>Dude Perfect</td>\n      <td>16674697235</td>\n      <td>59800000</td>\n      <td>400</td>\n      <td>UURijo3ddMTht_IHyNSNXpNQ</td>\n      <td>ZVPpl_sV97U,cA-DTIpVdH0,UGz1AbmJIuU,9o__c8wNd3...</td>\n    </tr>\n    <tr>\n      <th>80</th>\n      <td>UC0C-w0YjGpqDXGB8IHb662A</td>\n      <td>Ed Sheeran</td>\n      <td>30847079439</td>\n      <td>53800000</td>\n      <td>448</td>\n      <td>UU0C-w0YjGpqDXGB8IHb662A</td>\n      <td>ZqiF_UtH6fw,YAMI-bwcQ2g,uDaUlP2x2Jk,218WUXMDMO...</td>\n    </tr>\n  </tbody>\n</table>\n<p>81 rows × 7 columns</p>\n</div>"
     },
     "execution_count": 69,
     "metadata": {},
     "output_type": "execute_result"
    }
   ],
   "source": [],
   "metadata": {
    "collapsed": false,
    "pycharm": {
     "name": "#%%\n"
    }
   }
  },
  {
   "cell_type": "code",
   "execution_count": null,
   "outputs": [],
   "source": [],
   "metadata": {
    "collapsed": false,
    "pycharm": {
     "name": "#%%\n"
    }
   }
  }
 ],
 "metadata": {
  "kernelspec": {
   "display_name": "Python 3",
   "language": "python",
   "name": "python3"
  },
  "language_info": {
   "codemirror_mode": {
    "name": "ipython",
    "version": 2
   },
   "file_extension": ".py",
   "mimetype": "text/x-python",
   "name": "python",
   "nbconvert_exporter": "python",
   "pygments_lexer": "ipython2",
   "version": "2.7.6"
  }
 },
 "nbformat": 4,
 "nbformat_minor": 0
}